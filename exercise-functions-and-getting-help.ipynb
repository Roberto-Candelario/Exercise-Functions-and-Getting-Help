{
 "cells": [
  {
   "cell_type": "markdown",
   "id": "5607678b",
   "metadata": {
    "papermill": {
     "duration": 0.006209,
     "end_time": "2022-07-28T22:42:04.108764",
     "exception": false,
     "start_time": "2022-07-28T22:42:04.102555",
     "status": "completed"
    },
    "tags": []
   },
   "source": [
    "**This notebook is an exercise in the [Python](https://www.kaggle.com/learn/python) course.  You can reference the tutorial at [this link](https://www.kaggle.com/colinmorris/functions-and-getting-help).**\n",
    "\n",
    "---\n"
   ]
  },
  {
   "cell_type": "markdown",
   "id": "d6807481",
   "metadata": {
    "papermill": {
     "duration": 0.004782,
     "end_time": "2022-07-28T22:42:04.118946",
     "exception": false,
     "start_time": "2022-07-28T22:42:04.114164",
     "status": "completed"
    },
    "tags": []
   },
   "source": [
    "Functions are powerful. Try writing some yourself.\n",
    "\n",
    "As before, don't forget to run the setup code below before jumping into question 1."
   ]
  },
  {
   "cell_type": "code",
   "execution_count": 1,
   "id": "b87fbab4",
   "metadata": {
    "_kg_hide-input": true,
    "_kg_hide-output": true,
    "execution": {
     "iopub.execute_input": "2022-07-28T22:42:04.131208Z",
     "iopub.status.busy": "2022-07-28T22:42:04.130749Z",
     "iopub.status.idle": "2022-07-28T22:42:04.178051Z",
     "shell.execute_reply": "2022-07-28T22:42:04.177255Z"
    },
    "papermill": {
     "duration": 0.056801,
     "end_time": "2022-07-28T22:42:04.180923",
     "exception": false,
     "start_time": "2022-07-28T22:42:04.124122",
     "status": "completed"
    },
    "tags": []
   },
   "outputs": [
    {
     "name": "stdout",
     "output_type": "stream",
     "text": [
      "Setup complete.\n"
     ]
    }
   ],
   "source": [
    "# SETUP. You don't need to worry for now about what this code does or how it works.\n",
    "from learntools.core import binder; binder.bind(globals())\n",
    "from learntools.python.ex2 import *\n",
    "print('Setup complete.')"
   ]
  },
  {
   "cell_type": "markdown",
   "id": "f00dc433",
   "metadata": {
    "papermill": {
     "duration": 0.004942,
     "end_time": "2022-07-28T22:42:04.191150",
     "exception": false,
     "start_time": "2022-07-28T22:42:04.186208",
     "status": "completed"
    },
    "tags": []
   },
   "source": [
    "# 1.\n",
    "\n",
    "Complete the body of the following function according to its docstring.\n",
    "\n",
    "HINT: Python has a built-in function `round`."
   ]
  },
  {
   "cell_type": "code",
   "execution_count": 2,
   "id": "ec887059",
   "metadata": {
    "execution": {
     "iopub.execute_input": "2022-07-28T22:42:04.203500Z",
     "iopub.status.busy": "2022-07-28T22:42:04.202873Z",
     "iopub.status.idle": "2022-07-28T22:42:04.213207Z",
     "shell.execute_reply": "2022-07-28T22:42:04.212501Z"
    },
    "papermill": {
     "duration": 0.018959,
     "end_time": "2022-07-28T22:42:04.215221",
     "exception": false,
     "start_time": "2022-07-28T22:42:04.196262",
     "status": "completed"
    },
    "tags": []
   },
   "outputs": [
    {
     "data": {
      "application/javascript": [
       "parent.postMessage({\"jupyterEvent\": \"custom.exercise_interaction\", \"data\": {\"outcomeType\": 1, \"valueTowardsCompletion\": 0.16666666666666666, \"interactionType\": 1, \"questionType\": 2, \"questionId\": \"1_RoundFunctionProblem\", \"learnToolsVersion\": \"0.3.4\", \"failureMessage\": \"\", \"exceptionClass\": \"\", \"trace\": \"\"}}, \"*\")"
      ],
      "text/plain": [
       "<IPython.core.display.Javascript object>"
      ]
     },
     "metadata": {},
     "output_type": "display_data"
    },
    {
     "data": {
      "text/markdown": [
       "<span style=\"color:#33cc33\">Correct</span>"
      ],
      "text/plain": [
       "Correct"
      ]
     },
     "metadata": {},
     "output_type": "display_data"
    }
   ],
   "source": [
    "def round_to_two_places(num):\n",
    "    \"\"\"Return the given number rounded to two decimal places. \n",
    "    \n",
    "    >>> round_to_two_places(3.14159)\n",
    "    3.14\n",
    "    \"\"\"\n",
    "    # Replace this body with your own code.\n",
    "    # (\"pass\" is a keyword that does literally nothing. We used it as a placeholder\n",
    "    # because after we begin a code block, Python requires at least one line of code)\n",
    "    return round(num, 2)\n",
    "    pass\n",
    "\n",
    "# Check your answer\n",
    "q1.check()"
   ]
  },
  {
   "cell_type": "code",
   "execution_count": 3,
   "id": "25966a62",
   "metadata": {
    "execution": {
     "iopub.execute_input": "2022-07-28T22:42:04.227869Z",
     "iopub.status.busy": "2022-07-28T22:42:04.227514Z",
     "iopub.status.idle": "2022-07-28T22:42:04.233605Z",
     "shell.execute_reply": "2022-07-28T22:42:04.232450Z"
    },
    "papermill": {
     "duration": 0.015799,
     "end_time": "2022-07-28T22:42:04.236594",
     "exception": false,
     "start_time": "2022-07-28T22:42:04.220795",
     "status": "completed"
    },
    "tags": []
   },
   "outputs": [
    {
     "name": "stdout",
     "output_type": "stream",
     "text": [
      "Help on built-in function round in module builtins:\n",
      "\n",
      "round(number, ndigits=None)\n",
      "    Round a number to a given precision in decimal digits.\n",
      "    \n",
      "    The return value is an integer if ndigits is omitted or None.  Otherwise\n",
      "    the return value has the same type as the number.  ndigits may be negative.\n",
      "\n"
     ]
    }
   ],
   "source": [
    "# Uncomment the following for a hint\n",
    "help(round)\n",
    "#q1.hint()\n",
    "# Or uncomment the following to peek at the solution\n",
    "#q1.solution()"
   ]
  },
  {
   "cell_type": "markdown",
   "id": "d78e5ad0",
   "metadata": {
    "papermill": {
     "duration": 0.005392,
     "end_time": "2022-07-28T22:42:04.247668",
     "exception": false,
     "start_time": "2022-07-28T22:42:04.242276",
     "status": "completed"
    },
    "tags": []
   },
   "source": [
    "# 2.\n",
    "The help for `round` says that `ndigits` (the second argument) may be negative.\n",
    "What do you think will happen when it is? Try some examples in the following cell."
   ]
  },
  {
   "cell_type": "code",
   "execution_count": 4,
   "id": "00544b44",
   "metadata": {
    "execution": {
     "iopub.execute_input": "2022-07-28T22:42:04.260598Z",
     "iopub.status.busy": "2022-07-28T22:42:04.260196Z",
     "iopub.status.idle": "2022-07-28T22:42:04.267213Z",
     "shell.execute_reply": "2022-07-28T22:42:04.266132Z"
    },
    "papermill": {
     "duration": 0.016232,
     "end_time": "2022-07-28T22:42:04.269437",
     "exception": false,
     "start_time": "2022-07-28T22:42:04.253205",
     "status": "completed"
    },
    "tags": []
   },
   "outputs": [
    {
     "data": {
      "text/plain": [
       "0.0"
      ]
     },
     "execution_count": 4,
     "metadata": {},
     "output_type": "execute_result"
    }
   ],
   "source": [
    "# Put your test code here\n",
    "round(4.534, -2)"
   ]
  },
  {
   "cell_type": "markdown",
   "id": "f074d0ca",
   "metadata": {
    "papermill": {
     "duration": 0.00544,
     "end_time": "2022-07-28T22:42:04.280605",
     "exception": false,
     "start_time": "2022-07-28T22:42:04.275165",
     "status": "completed"
    },
    "tags": []
   },
   "source": [
    "Can you think of a case where this would be useful?  Once you're ready, run the code cell below to see the answer and to receive credit for completing the problem."
   ]
  },
  {
   "cell_type": "code",
   "execution_count": 5,
   "id": "e0ef92d1",
   "metadata": {
    "execution": {
     "iopub.execute_input": "2022-07-28T22:42:04.293669Z",
     "iopub.status.busy": "2022-07-28T22:42:04.293039Z",
     "iopub.status.idle": "2022-07-28T22:42:04.301619Z",
     "shell.execute_reply": "2022-07-28T22:42:04.300855Z"
    },
    "papermill": {
     "duration": 0.017511,
     "end_time": "2022-07-28T22:42:04.303647",
     "exception": false,
     "start_time": "2022-07-28T22:42:04.286136",
     "status": "completed"
    },
    "tags": []
   },
   "outputs": [
    {
     "data": {
      "application/javascript": [
       "parent.postMessage({\"jupyterEvent\": \"custom.exercise_interaction\", \"data\": {\"interactionType\": 3, \"questionType\": 4, \"questionId\": \"2_RoundNdigitsProblem\", \"learnToolsVersion\": \"0.3.4\", \"valueTowardsCompletion\": 0.0, \"failureMessage\": \"\", \"exceptionClass\": \"\", \"trace\": \"\", \"outcomeType\": 4}}, \"*\")"
      ],
      "text/plain": [
       "<IPython.core.display.Javascript object>"
      ]
     },
     "metadata": {},
     "output_type": "display_data"
    },
    {
     "data": {
      "text/markdown": [
       "<span style=\"color:#33cc99\">Solution:</span> As you've seen, `ndigits=-1` rounds to the nearest 10, `ndigits=-2` rounds to the nearest 100 and so on. Where might this be useful? Suppose we're dealing with large numbers:\n",
       "\n",
       "> The area of Finland is 338,424 km²  \n",
       "> The area of Greenland is 2,166,086 km²\n",
       "\n",
       "We probably don't care whether it's really 338,424, or 338,425, or 338,177. All those digits of accuracy are just distracting. We can chop them off by calling `round()` with `ndigits=-3`:\n",
       "\n",
       "> The area of Finland is 338,000 km²  \n",
       "> The area of Greenland is 2,166,000 km²\n",
       "\n",
       "(We'll talk about how we would get the commas later when we talk about string formatting :))\n"
      ],
      "text/plain": [
       "Solution: As you've seen, `ndigits=-1` rounds to the nearest 10, `ndigits=-2` rounds to the nearest 100 and so on. Where might this be useful? Suppose we're dealing with large numbers:\n",
       "\n",
       "> The area of Finland is 338,424 km²  \n",
       "> The area of Greenland is 2,166,086 km²\n",
       "\n",
       "We probably don't care whether it's really 338,424, or 338,425, or 338,177. All those digits of accuracy are just distracting. We can chop them off by calling `round()` with `ndigits=-3`:\n",
       "\n",
       "> The area of Finland is 338,000 km²  \n",
       "> The area of Greenland is 2,166,000 km²\n",
       "\n",
       "(We'll talk about how we would get the commas later when we talk about string formatting :))"
      ]
     },
     "metadata": {},
     "output_type": "display_data"
    }
   ],
   "source": [
    "# Check your answer (Run this code cell to receive credit!)\n",
    "q2.solution()"
   ]
  },
  {
   "cell_type": "markdown",
   "id": "15dfee6d",
   "metadata": {
    "papermill": {
     "duration": 0.005708,
     "end_time": "2022-07-28T22:42:04.315493",
     "exception": false,
     "start_time": "2022-07-28T22:42:04.309785",
     "status": "completed"
    },
    "tags": []
   },
   "source": [
    "# 3.\n",
    "\n",
    "In the previous exercise, the candy-sharing friends Alice, Bob and Carol tried to split candies evenly. For the sake of their friendship, any candies left over would be smashed. For example, if they collectively bring home 91 candies, they'll take 30 each and smash 1.\n",
    "\n",
    "Below is a simple function that will calculate the number of candies to smash for *any* number of total candies.\n",
    "\n",
    "Modify it so that it optionally takes a second argument representing the number of friends the candies are being split between. If no second argument is provided, it should assume 3 friends, as before.\n",
    "\n",
    "Update the docstring to reflect this new behaviour."
   ]
  },
  {
   "cell_type": "code",
   "execution_count": 6,
   "id": "0738ba01",
   "metadata": {
    "execution": {
     "iopub.execute_input": "2022-07-28T22:42:04.328929Z",
     "iopub.status.busy": "2022-07-28T22:42:04.328554Z",
     "iopub.status.idle": "2022-07-28T22:42:04.336936Z",
     "shell.execute_reply": "2022-07-28T22:42:04.336007Z"
    },
    "papermill": {
     "duration": 0.017501,
     "end_time": "2022-07-28T22:42:04.338865",
     "exception": false,
     "start_time": "2022-07-28T22:42:04.321364",
     "status": "completed"
    },
    "tags": []
   },
   "outputs": [
    {
     "data": {
      "application/javascript": [
       "parent.postMessage({\"jupyterEvent\": \"custom.exercise_interaction\", \"data\": {\"outcomeType\": 1, \"valueTowardsCompletion\": 0.16666666666666666, \"interactionType\": 1, \"questionType\": 2, \"questionId\": \"3_CandySmashingFunctionProblem\", \"learnToolsVersion\": \"0.3.4\", \"failureMessage\": \"\", \"exceptionClass\": \"\", \"trace\": \"\"}}, \"*\")"
      ],
      "text/plain": [
       "<IPython.core.display.Javascript object>"
      ]
     },
     "metadata": {},
     "output_type": "display_data"
    },
    {
     "data": {
      "text/markdown": [
       "<span style=\"color:#33cc33\">Correct</span>"
      ],
      "text/plain": [
       "Correct"
      ]
     },
     "metadata": {},
     "output_type": "display_data"
    }
   ],
   "source": [
    "def to_smash(total_candies, num_friends=3):\n",
    "    \"\"\"Return the number of leftover candies that must be smashed after distributing\n",
    "    the given number of candies evenly between 3 friends.\n",
    "    \n",
    "    >>> to_smash(91)\n",
    "    1\n",
    "    \"\"\"\n",
    "    return total_candies % num_friends\n",
    "\n",
    "# Check your answer\n",
    "q3.check()"
   ]
  },
  {
   "cell_type": "code",
   "execution_count": 7,
   "id": "53558785",
   "metadata": {
    "execution": {
     "iopub.execute_input": "2022-07-28T22:42:04.353199Z",
     "iopub.status.busy": "2022-07-28T22:42:04.352859Z",
     "iopub.status.idle": "2022-07-28T22:42:04.359746Z",
     "shell.execute_reply": "2022-07-28T22:42:04.359010Z"
    },
    "papermill": {
     "duration": 0.016388,
     "end_time": "2022-07-28T22:42:04.361653",
     "exception": false,
     "start_time": "2022-07-28T22:42:04.345265",
     "status": "completed"
    },
    "tags": []
   },
   "outputs": [
    {
     "data": {
      "application/javascript": [
       "parent.postMessage({\"jupyterEvent\": \"custom.exercise_interaction\", \"data\": {\"interactionType\": 2, \"questionType\": 2, \"questionId\": \"3_CandySmashingFunctionProblem\", \"learnToolsVersion\": \"0.3.4\", \"valueTowardsCompletion\": 0.0, \"failureMessage\": \"\", \"exceptionClass\": \"\", \"trace\": \"\", \"outcomeType\": 4}}, \"*\")"
      ],
      "text/plain": [
       "<IPython.core.display.Javascript object>"
      ]
     },
     "metadata": {},
     "output_type": "display_data"
    },
    {
     "data": {
      "text/markdown": [
       "<span style=\"color:#3366cc\">Hint:</span> Refer to the section of the last tutorial notebook where we talked about default arguments"
      ],
      "text/plain": [
       "Hint: Refer to the section of the last tutorial notebook where we talked about default arguments"
      ]
     },
     "metadata": {},
     "output_type": "display_data"
    }
   ],
   "source": [
    "q3.hint()"
   ]
  },
  {
   "cell_type": "code",
   "execution_count": 8,
   "id": "fcd7ef62",
   "metadata": {
    "execution": {
     "iopub.execute_input": "2022-07-28T22:42:04.376569Z",
     "iopub.status.busy": "2022-07-28T22:42:04.376153Z",
     "iopub.status.idle": "2022-07-28T22:42:04.380425Z",
     "shell.execute_reply": "2022-07-28T22:42:04.379410Z"
    },
    "papermill": {
     "duration": 0.01432,
     "end_time": "2022-07-28T22:42:04.382457",
     "exception": false,
     "start_time": "2022-07-28T22:42:04.368137",
     "status": "completed"
    },
    "tags": []
   },
   "outputs": [],
   "source": [
    "#q3.solution()"
   ]
  },
  {
   "cell_type": "markdown",
   "id": "d76041f9",
   "metadata": {
    "papermill": {
     "duration": 0.006371,
     "end_time": "2022-07-28T22:42:04.395689",
     "exception": false,
     "start_time": "2022-07-28T22:42:04.389318",
     "status": "completed"
    },
    "tags": []
   },
   "source": [
    "# 4. (Optional)\n",
    "\n",
    "It may not be fun, but reading and understanding error messages will be an important part of your Python career.\n",
    "\n",
    "Each code cell below contains some commented buggy code. For each cell...\n",
    "\n",
    "1. Read the code and predict what you think will happen when it's run.\n",
    "2. Then uncomment the code and run it to see what happens. (**Tip**: In the kernel editor, you can highlight several lines and press `ctrl`+`/` to toggle commenting.)\n",
    "3. Fix the code (so that it accomplishes its intended purpose without throwing an exception)\n",
    "\n",
    "<!-- TODO: should this be autochecked? Delta is probably pretty small. -->"
   ]
  },
  {
   "cell_type": "code",
   "execution_count": 9,
   "id": "80abe862",
   "metadata": {
    "execution": {
     "iopub.execute_input": "2022-07-28T22:42:04.410826Z",
     "iopub.status.busy": "2022-07-28T22:42:04.410160Z",
     "iopub.status.idle": "2022-07-28T22:42:04.415986Z",
     "shell.execute_reply": "2022-07-28T22:42:04.414838Z"
    },
    "papermill": {
     "duration": 0.015749,
     "end_time": "2022-07-28T22:42:04.417958",
     "exception": false,
     "start_time": "2022-07-28T22:42:04.402209",
     "status": "completed"
    },
    "tags": []
   },
   "outputs": [
    {
     "name": "stdout",
     "output_type": "stream",
     "text": [
      "Help on built-in function abs in module builtins:\n",
      "\n",
      "abs(x, /)\n",
      "    Return the absolute value of the argument.\n",
      "\n"
     ]
    }
   ],
   "source": [
    "round_to_two_places(9.9999)\n",
    "help(abs)"
   ]
  },
  {
   "cell_type": "code",
   "execution_count": 10,
   "id": "37bf55a3",
   "metadata": {
    "execution": {
     "iopub.execute_input": "2022-07-28T22:42:04.433701Z",
     "iopub.status.busy": "2022-07-28T22:42:04.433022Z",
     "iopub.status.idle": "2022-07-28T22:42:04.438201Z",
     "shell.execute_reply": "2022-07-28T22:42:04.437483Z"
    },
    "papermill": {
     "duration": 0.015373,
     "end_time": "2022-07-28T22:42:04.440184",
     "exception": false,
     "start_time": "2022-07-28T22:42:04.424811",
     "status": "completed"
    },
    "tags": []
   },
   "outputs": [
    {
     "name": "stdout",
     "output_type": "stream",
     "text": [
      "-10\n"
     ]
    }
   ],
   "source": [
    "x = -10\n",
    "y = 5\n",
    "# Which of the two variables above has the smallest absolute value?\n",
    "smallest_abs = min(x, y)\n",
    "print(smallest_abs)"
   ]
  },
  {
   "cell_type": "code",
   "execution_count": 11,
   "id": "86ebe0f1",
   "metadata": {
    "execution": {
     "iopub.execute_input": "2022-07-28T22:42:04.456022Z",
     "iopub.status.busy": "2022-07-28T22:42:04.455323Z",
     "iopub.status.idle": "2022-07-28T22:42:04.460704Z",
     "shell.execute_reply": "2022-07-28T22:42:04.459642Z"
    },
    "papermill": {
     "duration": 0.015937,
     "end_time": "2022-07-28T22:42:04.462926",
     "exception": false,
     "start_time": "2022-07-28T22:42:04.446989",
     "status": "completed"
    },
    "tags": []
   },
   "outputs": [
    {
     "name": "stdout",
     "output_type": "stream",
     "text": [
      "5\n"
     ]
    }
   ],
   "source": [
    "def f(x):\n",
    "    y = abs(x)\n",
    "    return y\n",
    "\n",
    "print(f(5))"
   ]
  },
  {
   "cell_type": "markdown",
   "id": "1cee835a",
   "metadata": {
    "papermill": {
     "duration": 0.006703,
     "end_time": "2022-07-28T22:42:04.476472",
     "exception": false,
     "start_time": "2022-07-28T22:42:04.469769",
     "status": "completed"
    },
    "tags": []
   },
   "source": [
    "# Keep Going\n",
    "\n",
    "Nice job with the code. Next up, you'll learn about *conditionals*, which you'll need to **[write interesting programs](https://www.kaggle.com/colinmorris/booleans-and-conditionals)**. "
   ]
  },
  {
   "cell_type": "markdown",
   "id": "8487c390",
   "metadata": {
    "papermill": {
     "duration": 0.006714,
     "end_time": "2022-07-28T22:42:04.490706",
     "exception": false,
     "start_time": "2022-07-28T22:42:04.483992",
     "status": "completed"
    },
    "tags": []
   },
   "source": [
    "---\n",
    "\n",
    "\n",
    "\n",
    "\n",
    "*Have questions or comments? Visit the [course discussion forum](https://www.kaggle.com/learn/python/discussion) to chat with other learners.*"
   ]
  }
 ],
 "metadata": {
  "kernelspec": {
   "display_name": "Python 3",
   "language": "python",
   "name": "python3"
  },
  "language_info": {
   "codemirror_mode": {
    "name": "ipython",
    "version": 3
   },
   "file_extension": ".py",
   "mimetype": "text/x-python",
   "name": "python",
   "nbconvert_exporter": "python",
   "pygments_lexer": "ipython3",
   "version": "3.7.12"
  },
  "papermill": {
   "default_parameters": {},
   "duration": 10.613161,
   "end_time": "2022-07-28T22:42:05.117651",
   "environment_variables": {},
   "exception": null,
   "input_path": "__notebook__.ipynb",
   "output_path": "__notebook__.ipynb",
   "parameters": {},
   "start_time": "2022-07-28T22:41:54.504490",
   "version": "2.3.4"
  }
 },
 "nbformat": 4,
 "nbformat_minor": 5
}
